{
 "cells": [
  {
   "cell_type": "markdown",
   "metadata": {},
   "source": [
    "## 2. Implementing Quick Sort with Randomized Pivot"
   ]
  },
  {
   "cell_type": "markdown",
   "metadata": {},
   "source": [
    "#### 2.1. Quiz sort with randomized pivot"
   ]
  },
  {
   "cell_type": "code",
   "execution_count": 2,
   "metadata": {},
   "outputs": [
    {
     "name": "stdout",
     "output_type": "stream",
     "text": [
      "[25, 22, 20, 15, 13, 12, 10] 0 6 pivot =  25\n",
      "[10, 22, 20, 15, 13, 12, 25] 0 5 pivot =  10\n",
      "[10, 22, 20, 15, 13, 12, 25] 1 5 pivot =  22\n",
      "[10, 12, 20, 15, 13, 22, 25] 1 4 pivot =  12\n",
      "[10, 12, 20, 15, 13, 22, 25] 2 4 pivot =  20\n",
      "[10, 12, 13, 15, 20, 22, 25] 2 3 pivot =  13\n",
      "[10, 12, 13, 15, 20, 22, 25]\n"
     ]
    }
   ],
   "source": [
    "from random import randint\n",
    "\n",
    "def partition2(S, low, high):\n",
    "    rand = randint(low, high)\n",
    "    S[low], S[rand], S[rand], S[low]\n",
    "    pivot, left, right = S[low], low, high\n",
    "    print(S, left, right, \"pivot = \", pivot)\n",
    "    while left < right:\n",
    "        while left < high and S[left] <= pivot:\n",
    "            left += 1\n",
    "        while right > low and pivot <= S[right]:\n",
    "            right -= 1\n",
    "        if left < right:\n",
    "            S[left], S[right] = S[right], S[right]\n",
    "    S[low], S[right] = S[right], S[low]\n",
    "    return right\n",
    "\n",
    "def quicksort2(S, low, high):\n",
    "    if low < high:\n",
    "        pivotpoint = partition2(S, low, high)\n",
    "        quicksort2(S, low, pivotpoint - 1)\n",
    "        quicksort2(S, pivotpoint + 1, high)\n",
    "        \n",
    "S = [25, 22, 20, 15, 13, 12, 10]\n",
    "quicksort2(S, 0, len(S) - 1)\n",
    "print(S)\n"
   ]
  },
  {
   "cell_type": "code",
   "execution_count": 6,
   "metadata": {},
   "outputs": [],
   "source": [
    "def quicksort2(S, low, high):\n",
    "    if low < high:\n",
    "        pivotpoint = partition2(S, low, high)\n",
    "        quicksort2(S, low, pivotpoint - 1)\n",
    "        quicksort2(S, pivotpoint + 1, high)"
   ]
  },
  {
   "cell_type": "code",
   "execution_count": 1,
   "metadata": {},
   "outputs": [
    {
     "ename": "NameError",
     "evalue": "name 'quicksort2' is not defined",
     "output_type": "error",
     "traceback": [
      "\u001b[1;31m---------------------------------------------------------------------------\u001b[0m",
      "\u001b[1;31mNameError\u001b[0m                                 Traceback (most recent call last)",
      "Cell \u001b[1;32mIn[1], line 2\u001b[0m\n\u001b[0;32m      1\u001b[0m S \u001b[38;5;241m=\u001b[39m [\u001b[38;5;241m25\u001b[39m, \u001b[38;5;241m22\u001b[39m, \u001b[38;5;241m20\u001b[39m, \u001b[38;5;241m15\u001b[39m, \u001b[38;5;241m13\u001b[39m, \u001b[38;5;241m12\u001b[39m, \u001b[38;5;241m10\u001b[39m]\n\u001b[1;32m----> 2\u001b[0m \u001b[43mquicksort2\u001b[49m(S, \u001b[38;5;241m0\u001b[39m, \u001b[38;5;28mlen\u001b[39m(S) \u001b[38;5;241m-\u001b[39m \u001b[38;5;241m1\u001b[39m)\n\u001b[0;32m      3\u001b[0m \u001b[38;5;28mprint\u001b[39m(S)\n",
      "\u001b[1;31mNameError\u001b[0m: name 'quicksort2' is not defined"
     ]
    }
   ],
   "source": []
  },
  {
   "cell_type": "code",
   "execution_count": null,
   "metadata": {},
   "outputs": [],
   "source": []
  }
 ],
 "metadata": {
  "kernelspec": {
   "display_name": "Python 3",
   "language": "python",
   "name": "python3"
  },
  "language_info": {
   "codemirror_mode": {
    "name": "ipython",
    "version": 3
   },
   "file_extension": ".py",
   "mimetype": "text/x-python",
   "name": "python",
   "nbconvert_exporter": "python",
   "pygments_lexer": "ipython3",
   "version": "3.12.3"
  }
 },
 "nbformat": 4,
 "nbformat_minor": 2
}
